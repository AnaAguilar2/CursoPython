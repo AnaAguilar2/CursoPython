{
 "cells": [
  {
   "cell_type": "code",
   "execution_count": 1,
   "metadata": {},
   "outputs": [
    {
     "name": "stdout",
     "output_type": "stream",
     "text": [
      "-628949330\n",
      "-390577533.93\n"
     ]
    }
   ],
   "source": [
    "earth=149597870 \n",
    "jupiter=778547200\n",
    "\n",
    "distance_km = earth - jupiter\n",
    "print(distance_km)\n",
    "\n",
    "distance_m = distance_km * 0.621\n",
    "print(distance_m)"
   ]
  }
 ],
 "metadata": {
  "interpreter": {
   "hash": "38a9ab613f40c178c72ce071206e341860e38e80f5f3fbbc15ad554e093d20c1"
  },
  "kernelspec": {
   "display_name": "Python 3.10.2 64-bit (windows store)",
   "language": "python",
   "name": "python3"
  },
  "language_info": {
   "codemirror_mode": {
    "name": "ipython",
    "version": 3
   },
   "file_extension": ".py",
   "mimetype": "text/x-python",
   "name": "python",
   "nbconvert_exporter": "python",
   "pygments_lexer": "ipython3",
   "version": "3.10.2"
  },
  "orig_nbformat": 4
 },
 "nbformat": 4,
 "nbformat_minor": 2
}
